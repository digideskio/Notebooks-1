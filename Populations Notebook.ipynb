{
 "cells": [
  {
   "cell_type": "code",
   "execution_count": 1,
   "metadata": {
    "collapsed": false
   },
   "outputs": [
    {
     "data": {
      "text/plain": [
       "u'C:\\\\Users\\\\Greg\\\\Documents\\\\GitHub\\\\Notebooks'"
      ]
     },
     "execution_count": 1,
     "metadata": {},
     "output_type": "execute_result"
    }
   ],
   "source": [
    "pwd"
   ]
  },
  {
   "cell_type": "code",
   "execution_count": 2,
   "metadata": {
    "collapsed": false
   },
   "outputs": [
    {
     "name": "stdout",
     "output_type": "stream",
     "text": [
      "C:\\Users\\Greg\\Documents\\GitHub\\Notebooks\\data\n"
     ]
    }
   ],
   "source": [
    "cd data"
   ]
  },
  {
   "cell_type": "markdown",
   "metadata": {},
   "source": [
    "- more shows the data file outside of the notebook for viewing."
   ]
  },
  {
   "cell_type": "code",
   "execution_count": 6,
   "metadata": {
    "collapsed": true
   },
   "outputs": [],
   "source": [
    "more populations.txt"
   ]
  },
  {
   "cell_type": "code",
   "execution_count": 4,
   "metadata": {
    "collapsed": false
   },
   "outputs": [
    {
     "name": "stdout",
     "output_type": "stream",
     "text": [
      "[1900, 30000.0, 4000.0, 48300.0]\n",
      "[1901, 47200.0, 6100.0, 48200.0]\n",
      "[1902, 70200.0, 9800.0, 41500.0]\n",
      "[1903, 77400.0, 35200.0, 38200.0]\n",
      "[1904, 36300.0, 59400.0, 40600.0]\n",
      "[1905, 20600.0, 41700.0, 39800.0]\n",
      "[1906, 18100.0, 19000.0, 38600.0]\n",
      "[1907, 21400.0, 13000.0, 42300.0]\n",
      "[1908, 22000.0, 8300.0, 44500.0]\n",
      "[1909, 25400.0, 9100.0, 42100.0]\n",
      "[1910, 27100.0, 7400.0, 46000.0]\n",
      "[1911, 40300.0, 8000.0, 46800.0]\n",
      "[1912, 57000.0, 12300.0, 43800.0]\n",
      "[1913, 76600.0, 19500.0, 40900.0]\n",
      "[1914, 52300.0, 45700.0, 39400.0]\n",
      "[1915, 19500.0, 51100.0, 39000.0]\n",
      "[1916, 11200.0, 29700.0, 36700.0]\n",
      "[1917, 7600.0, 15800.0, 41800.0]\n",
      "[1918, 14600.0, 9700.0, 43300.0]\n",
      "[1919, 16200.0, 10100.0, 41300.0]\n",
      "[1920, 24700.0, 8600.0, 47300.0]\n",
      "21\n"
     ]
    }
   ],
   "source": [
    "datafile = open(\"populations.txt\")\n",
    "labels_line = datafile.readline().strip() #Labels from first line of text\n",
    "pop_table = []\n",
    "total = 0\n",
    "for line in datafile.readlines():\n",
    "    line = line.strip()\n",
    "    row = line.split('\\t') #tab delimited data - split into list\n",
    "    record = [int(row[0]),float(row[1]),float(row[2]),float(row[3])]#type cast each attribute\n",
    "    print record\n",
    "    pop_table.append(record)\n",
    "    total +=1\n",
    "print total"
   ]
  },
  {
   "cell_type": "code",
   "execution_count": 5,
   "metadata": {
    "collapsed": false
   },
   "outputs": [
    {
     "data": {
      "text/plain": [
       "[[1900, 30000.0, 4000.0, 48300.0],\n",
       " [1901, 47200.0, 6100.0, 48200.0],\n",
       " [1902, 70200.0, 9800.0, 41500.0],\n",
       " [1903, 77400.0, 35200.0, 38200.0],\n",
       " [1904, 36300.0, 59400.0, 40600.0]]"
      ]
     },
     "execution_count": 5,
     "metadata": {},
     "output_type": "execute_result"
    }
   ],
   "source": [
    "pop_table[:5]"
   ]
  },
  {
   "cell_type": "code",
   "execution_count": 7,
   "metadata": {
    "collapsed": false
   },
   "outputs": [
    {
     "name": "stdout",
     "output_type": "stream",
     "text": [
      "[(1900, 30000.0), (1901, 47200.0), (1902, 70200.0), (1903, 77400.0), (1904, 36300.0), (1905, 20600.0), (1906, 18100.0), (1907, 21400.0), (1908, 22000.0), (1909, 25400.0), (1910, 27100.0), (1911, 40300.0), (1912, 57000.0), (1913, 76600.0), (1914, 52300.0), (1915, 19500.0), (1916, 11200.0), (1917, 7600.0), (1918, 14600.0), (1919, 16200.0), (1920, 24700.0)]\n"
     ]
    }
   ],
   "source": [
    "hare = {}\n",
    "lynx = {}\n",
    "carrot= {}\n",
    "for row in pop_table:\n",
    "    hare[row[0]] = row[1]\n",
    "    lynx[row[0]] = row[2]\n",
    "    carrot[row[0]]= row[3]\n",
    "print sorted(hare.items())"
   ]
  },
  {
   "cell_type": "code",
   "execution_count": null,
   "metadata": {
    "collapsed": true
   },
   "outputs": [],
   "source": []
  }
 ],
 "metadata": {
  "kernelspec": {
   "display_name": "Python 2",
   "language": "python",
   "name": "python2"
  },
  "language_info": {
   "codemirror_mode": {
    "name": "ipython",
    "version": 2
   },
   "file_extension": ".py",
   "mimetype": "text/x-python",
   "name": "python",
   "nbconvert_exporter": "python",
   "pygments_lexer": "ipython2",
   "version": "2.7.10"
  }
 },
 "nbformat": 4,
 "nbformat_minor": 0
}
